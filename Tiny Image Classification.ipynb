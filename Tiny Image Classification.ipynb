{
 "cells": [
  {
   "cell_type": "code",
   "execution_count": 13,
   "metadata": {
    "_cell_guid": "b1076dfc-b9ad-4769-8c92-a6c4dae69d19",
    "_uuid": "8f2839f25d086af736a60e9eeb907d3b93b6e0e5"
   },
   "outputs": [],
   "source": [
    "# Paul Barrett\n",
    "# Tiny Image Classification problem\n",
    "\n",
    "import numpy as np\n",
    "import matplotlib.pyplot as plt\n",
    "import pandas as pd\n",
    "from sklearn.model_selection import RandomizedSearchCV\n",
    "from scipy.stats import randint as sp_randint\n",
    "from sklearn.neighbors import KNeighborsClassifier\n",
    "from sklearn.ensemble import RandomForestClassifier\n",
    "from sklearn import tree\n",
    "from sklearn.datasets import make_classification\n",
    "from sklearn.metrics import classification_report\n",
    "from sklearn import preprocessing\n",
    "from sklearn.linear_model import LogisticRegression\n",
    "from sklearn.model_selection import train_test_split\n",
    "from sklearn.neural_network import MLPClassifier\n",
    "from sklearn.metrics import confusion_matrix"
   ]
  },
  {
   "cell_type": "markdown",
   "metadata": {
    "_uuid": "991db777b3b5df90cc726e7c01c64bb83337f087"
   },
   "source": [
    "## Load the data"
   ]
  },
  {
   "cell_type": "code",
   "execution_count": 14,
   "metadata": {
    "_cell_guid": "79c7e3d0-c299-4dcb-8224-4455121ee9b0",
    "_uuid": "d629ff2d2480ee46fbb7e2d37f6b5fab8052498a"
   },
   "outputs": [],
   "source": [
    "base_dir = 'C:\\\\Users\\\\Paul\\\\Google Drive\\\\2018 Fall\\\\CS460G\\\\Notebooks\\\\assignment5data\\\\';\n",
    "\n",
    "# load features, ignore header, ignore IDs\n",
    "X_train = np.loadtxt(base_dir + 'train_features.csv', delimiter=',')[:,1:];\n",
    "X_test = np.loadtxt(base_dir + 'test_features.csv', delimiter=',')[:,1:];\n",
    "y_train = np.loadtxt(base_dir + 'train_labels.csv', dtype=np.uint8, delimiter=',', skiprows=1)[:,-1];"
   ]
  },
  {
   "cell_type": "markdown",
   "metadata": {
    "_uuid": "4ba0748b7f3a08a856d47dce5a0619535930f8c6"
   },
   "source": [
    "## Visualize the Images"
   ]
  },
  {
   "cell_type": "code",
   "execution_count": 5,
   "metadata": {
    "_uuid": "f47353e2f9655363c425f66026b337dae0f92836"
   },
   "outputs": [
    {
     "data": {
      "image/png": "[encoded data removed]",
      "text/plain": [
       "<Figure size 432x288 with 1 Axes>"
      ]
     },
     "metadata": {},
     "output_type": "display_data"
    },
    {
     "data": {
      "image/png": "[encoded data removed]",
      "text/plain": [
       "<Figure size 432x288 with 1 Axes>"
      ]
     },
     "metadata": {},
     "output_type": "display_data"
    }
   ],
   "source": [
    "im_train = X_train[0,:].reshape((30,30,3), order='F')\n",
    "im_test = X_test[0,:].reshape((30,30,3), order='F')\n",
    "\n",
    "plt.figure(1)\n",
    "plt.imshow(im_train/255)\n",
    "plt.axis('off')\n",
    "\n",
    "plt.figure(2)\n",
    "plt.imshow(im_test/255)\n",
    "plt.axis('off');"
   ]
  },
  {
   "cell_type": "markdown",
   "metadata": {},
   "source": [
    "## Split Data for Parameter Search"
   ]
  },
  {
   "cell_type": "code",
   "execution_count": 15,
   "metadata": {},
   "outputs": [],
   "source": [
    "#split data in half, random state off\n",
    "X_train_split, X_test_split, y_train_split, y_test_split = train_test_split(X_train, y_train, test_size=0.5, random_state=0)"
   ]
  },
  {
   "cell_type": "markdown",
   "metadata": {
    "_uuid": "219f0ab73c62efd5f957002e7675611b54a319af"
   },
   "source": [
    "## Make a KNN submission"
   ]
  },
  {
   "cell_type": "code",
   "execution_count": 10,
   "metadata": {
    "_uuid": "7b09833af9668d2019edb8e26fe46034f1826667"
   },
   "outputs": [],
   "source": [
    "clf = KNeighborsClassifier(n_jobs=-1)\n",
    "clf.fit(X_train, y_train)\n",
    "df = pd.DataFrame(clf.predict(X_test), columns=['Label'])\n",
    "df.index += 1 # upgrade to one-based indexing\n",
    "df.to_csv('PaulBarrett_KNN_submission.csv',index_label='ID',columns=['Label'])"
   ]
  },
  {
   "cell_type": "markdown",
   "metadata": {
    "_uuid": "507b334af7678581b1deb1cb62c8b716c5ea4d65"
   },
   "source": [
    "## Find Best Random Forest Parameters"
   ]
  },
  {
   "cell_type": "code",
   "execution_count": 28,
   "metadata": {},
   "outputs": [
    {
     "name": "stdout",
     "output_type": "stream",
     "text": [
      "Best params:  {'bootstrap': False, 'criterion': 'entropy', 'max_depth': None, 'max_features': 5, 'min_samples_split': 4, 'n_estimators': 319, 'random_state': True}\n",
      "\n",
      "Classification report: \n",
      "\n",
      "             precision    recall  f1-score   support\n",
      "\n",
      "          1       0.64      0.86      0.73        43\n",
      "          2       0.64      0.94      0.76        36\n",
      "          3       0.58      0.87      0.69        38\n",
      "          4       0.68      0.90      0.77        30\n",
      "          5       0.52      0.75      0.61        44\n",
      "          6       0.60      0.17      0.26        18\n",
      "          7       0.00      0.00      0.00        26\n",
      "          8       0.00      0.00      0.00        27\n",
      "          9       0.17      0.03      0.06        29\n",
      "         10       0.21      0.15      0.18        20\n",
      "         11       1.00      0.28      0.43        18\n",
      "         12       0.38      0.47      0.42        40\n",
      "         13       0.69      0.55      0.61        56\n",
      "         14       0.19      0.15      0.17        20\n",
      "         15       0.24      0.29      0.26        31\n",
      "         16       0.17      0.11      0.13        38\n",
      "         17       0.27      0.42      0.33        24\n",
      "         18       0.38      0.24      0.29        21\n",
      "         19       0.42      0.97      0.59        40\n",
      "         20       0.20      0.04      0.06        28\n",
      "         21       0.48      0.81      0.60        26\n",
      "         22       0.31      0.13      0.19        30\n",
      "         23       0.32      0.29      0.30        41\n",
      "         24       0.14      0.04      0.06        24\n",
      "         25       0.15      0.26      0.19        27\n",
      "         26       0.12      0.12      0.12        32\n",
      "         27       0.16      0.18      0.17        34\n",
      "\n",
      "avg / total       0.37      0.42      0.37       841\n",
      "\n"
     ]
    },
    {
     "name": "stderr",
     "output_type": "stream",
     "text": [
      "C:\\Users\\Paul\\Miniconda3\\envs\\cs460g\\lib\\site-packages\\sklearn\\metrics\\classification.py:1135: UndefinedMetricWarning: Precision and F-score are ill-defined and being set to 0.0 in labels with no predicted samples.\n",
      "  'precision', 'predicted', average, warn_for)\n"
     ]
    }
   ],
   "source": [
    "#build a classifier\n",
    "clf = RandomForestClassifier()\n",
    "\n",
    "param_dist = {\"n_estimators\": sp_randint(150, 350),\n",
    "              \"max_depth\": [3, None],\n",
    "              \"max_features\": sp_randint(1, 11),\n",
    "              \"min_samples_split\": sp_randint(2, 11),\n",
    "              \"bootstrap\": [True, False],\n",
    "              \"random_state\": [True, False],\n",
    "              \"criterion\": [\"gini\", \"entropy\"]}\n",
    "\n",
    "n_iter_search = 20\n",
    "random_search = RandomizedSearchCV(clf, param_distributions=param_dist,\n",
    "                                   n_iter=n_iter_search, cv=5)\n",
    "\n",
    "random_search.fit(X_train_split, y_train_split)\n",
    "print(\"Best params: \", random_search.best_params_); print()\n",
    "\n",
    "y_true, y_pred = y_test_split, random_search.predict(X_test_split)\n",
    "\n",
    "print(\"Classification report: \"); print()\n",
    "print(classification_report(y_true, y_pred))"
   ]
  },
  {
   "cell_type": "markdown",
   "metadata": {},
   "source": [
    "# Make Random Forest Submission Using Best Parameters"
   ]
  },
  {
   "cell_type": "code",
   "execution_count": 29,
   "metadata": {},
   "outputs": [],
   "source": [
    "RandForestclf = RandomForestClassifier(n_estimators = 319, random_state = True, max_depth = None, bootstrap = False, criterion = \"entropy\", min_samples_split = 5, max_features = 2)\n",
    "RandForestclf.fit(X_train, y_train)\n",
    "df = pd.DataFrame(RandForestclf.predict(X_test), columns=['Label'])\n",
    "df.index += 1 # upgrade to one-based indexing\n",
    "df.to_csv('PaulBarrett_RandForest_submission.csv',index_label='ID',columns=['Label'])"
   ]
  },
  {
   "cell_type": "markdown",
   "metadata": {},
   "source": [
    "## Find Best Multi Layer Perceptron Parameters"
   ]
  },
  {
   "cell_type": "code",
   "execution_count": null,
   "metadata": {},
   "outputs": [
    {
     "name": "stderr",
     "output_type": "stream",
     "text": [
      "C:\\Users\\Paul\\Miniconda3\\envs\\cs460g\\lib\\site-packages\\sklearn\\neural_network\\multilayer_perceptron.py:564: ConvergenceWarning: Stochastic Optimizer: Maximum iterations (181) reached and the optimization hasn't converged yet.\n",
      "  % self.max_iter, ConvergenceWarning)\n",
      "C:\\Users\\Paul\\Miniconda3\\envs\\cs460g\\lib\\site-packages\\sklearn\\neural_network\\multilayer_perceptron.py:564: ConvergenceWarning: Stochastic Optimizer: Maximum iterations (182) reached and the optimization hasn't converged yet.\n",
      "  % self.max_iter, ConvergenceWarning)\n",
      "C:\\Users\\Paul\\Miniconda3\\envs\\cs460g\\lib\\site-packages\\sklearn\\neural_network\\multilayer_perceptron.py:564: ConvergenceWarning: Stochastic Optimizer: Maximum iterations (182) reached and the optimization hasn't converged yet.\n",
      "  % self.max_iter, ConvergenceWarning)\n",
      "C:\\Users\\Paul\\Miniconda3\\envs\\cs460g\\lib\\site-packages\\sklearn\\neural_network\\multilayer_perceptron.py:564: ConvergenceWarning: Stochastic Optimizer: Maximum iterations (202) reached and the optimization hasn't converged yet.\n",
      "  % self.max_iter, ConvergenceWarning)\n",
      "C:\\Users\\Paul\\Miniconda3\\envs\\cs460g\\lib\\site-packages\\sklearn\\neural_network\\multilayer_perceptron.py:564: ConvergenceWarning: Stochastic Optimizer: Maximum iterations (215) reached and the optimization hasn't converged yet.\n",
      "  % self.max_iter, ConvergenceWarning)\n",
      "C:\\Users\\Paul\\Miniconda3\\envs\\cs460g\\lib\\site-packages\\sklearn\\neural_network\\multilayer_perceptron.py:564: ConvergenceWarning: Stochastic Optimizer: Maximum iterations (215) reached and the optimization hasn't converged yet.\n",
      "  % self.max_iter, ConvergenceWarning)\n",
      "C:\\Users\\Paul\\Miniconda3\\envs\\cs460g\\lib\\site-packages\\sklearn\\neural_network\\multilayer_perceptron.py:564: ConvergenceWarning: Stochastic Optimizer: Maximum iterations (161) reached and the optimization hasn't converged yet.\n",
      "  % self.max_iter, ConvergenceWarning)\n",
      "C:\\Users\\Paul\\Miniconda3\\envs\\cs460g\\lib\\site-packages\\sklearn\\neural_network\\multilayer_perceptron.py:564: ConvergenceWarning: Stochastic Optimizer: Maximum iterations (161) reached and the optimization hasn't converged yet.\n",
      "  % self.max_iter, ConvergenceWarning)\n",
      "C:\\Users\\Paul\\Miniconda3\\envs\\cs460g\\lib\\site-packages\\sklearn\\neural_network\\multilayer_perceptron.py:564: ConvergenceWarning: Stochastic Optimizer: Maximum iterations (161) reached and the optimization hasn't converged yet.\n",
      "  % self.max_iter, ConvergenceWarning)\n",
      "C:\\Users\\Paul\\Miniconda3\\envs\\cs460g\\lib\\site-packages\\sklearn\\neural_network\\multilayer_perceptron.py:564: ConvergenceWarning: Stochastic Optimizer: Maximum iterations (191) reached and the optimization hasn't converged yet.\n",
      "  % self.max_iter, ConvergenceWarning)\n",
      "C:\\Users\\Paul\\Miniconda3\\envs\\cs460g\\lib\\site-packages\\sklearn\\neural_network\\multilayer_perceptron.py:564: ConvergenceWarning: Stochastic Optimizer: Maximum iterations (191) reached and the optimization hasn't converged yet.\n",
      "  % self.max_iter, ConvergenceWarning)\n",
      "C:\\Users\\Paul\\Miniconda3\\envs\\cs460g\\lib\\site-packages\\sklearn\\neural_network\\multilayer_perceptron.py:566: UserWarning: Training interrupted by user.\n",
      "  warnings.warn(\"Training interrupted by user.\")\n",
      "C:\\Users\\Paul\\Miniconda3\\envs\\cs460g\\lib\\site-packages\\sklearn\\neural_network\\multilayer_perceptron.py:566: UserWarning: Training interrupted by user.\n",
      "  warnings.warn(\"Training interrupted by user.\")\n",
      "ERROR:root:Internal Python error in the inspect module.\n",
      "Below is the traceback from this internal error.\n",
      "\n"
     ]
    },
    {
     "name": "stdout",
     "output_type": "stream",
     "text": [
      "Traceback (most recent call last):\n",
      "  File \"C:\\Users\\Paul\\Miniconda3\\envs\\cs460g\\lib\\site-packages\\IPython\\core\\interactiveshell.py\", line 2961, in run_code\n",
      "    exec(code_obj, self.user_global_ns, self.user_ns)\n",
      "  File \"<ipython-input-38-49604bd3f5f5>\", line 11, in <module>\n",
      "    random_search.fit(X_train_split, y_train_split)\n",
      "  File \"C:\\Users\\Paul\\Miniconda3\\envs\\cs460g\\lib\\site-packages\\sklearn\\model_selection\\_search.py\", line 639, in fit\n",
      "    cv.split(X, y, groups)))\n",
      "  File \"C:\\Users\\Paul\\Miniconda3\\envs\\cs460g\\lib\\site-packages\\sklearn\\externals\\joblib\\parallel.py\", line 779, in __call__\n",
      "    while self.dispatch_one_batch(iterator):\n",
      "  File \"C:\\Users\\Paul\\Miniconda3\\envs\\cs460g\\lib\\site-packages\\sklearn\\externals\\joblib\\parallel.py\", line 625, in dispatch_one_batch\n",
      "    self._dispatch(tasks)\n",
      "  File \"C:\\Users\\Paul\\Miniconda3\\envs\\cs460g\\lib\\site-packages\\sklearn\\externals\\joblib\\parallel.py\", line 588, in _dispatch\n",
      "    job = self._backend.apply_async(batch, callback=cb)\n",
      "  File \"C:\\Users\\Paul\\Miniconda3\\envs\\cs460g\\lib\\site-packages\\sklearn\\externals\\joblib\\_parallel_backends.py\", line 111, in apply_async\n",
      "    result = ImmediateResult(func)\n",
      "  File \"C:\\Users\\Paul\\Miniconda3\\envs\\cs460g\\lib\\site-packages\\sklearn\\externals\\joblib\\_parallel_backends.py\", line 332, in __init__\n",
      "    self.results = batch()\n",
      "  File \"C:\\Users\\Paul\\Miniconda3\\envs\\cs460g\\lib\\site-packages\\sklearn\\externals\\joblib\\parallel.py\", line 131, in __call__\n",
      "    return [func(*args, **kwargs) for func, args, kwargs in self.items]\n",
      "  File \"C:\\Users\\Paul\\Miniconda3\\envs\\cs460g\\lib\\site-packages\\sklearn\\externals\\joblib\\parallel.py\", line 131, in <listcomp>\n",
      "    return [func(*args, **kwargs) for func, args, kwargs in self.items]\n",
      "  File \"C:\\Users\\Paul\\Miniconda3\\envs\\cs460g\\lib\\site-packages\\sklearn\\model_selection\\_validation.py\", line 458, in _fit_and_score\n",
      "    estimator.fit(X_train, y_train, **fit_params)\n",
      "  File \"C:\\Users\\Paul\\Miniconda3\\envs\\cs460g\\lib\\site-packages\\sklearn\\neural_network\\multilayer_perceptron.py\", line 973, in fit\n",
      "    hasattr(self, \"classes_\")))\n",
      "  File \"C:\\Users\\Paul\\Miniconda3\\envs\\cs460g\\lib\\site-packages\\sklearn\\neural_network\\multilayer_perceptron.py\", line 383, in _fit\n",
      "    intercept_grads, layer_units)\n",
      "  File \"C:\\Users\\Paul\\Miniconda3\\envs\\cs460g\\lib\\site-packages\\sklearn\\neural_network\\multilayer_perceptron.py\", line 470, in _fit_lbfgs\n",
      "    args=(X, y, activations, deltas, coef_grads, intercept_grads))\n",
      "  File \"C:\\Users\\Paul\\Miniconda3\\envs\\cs460g\\lib\\site-packages\\scipy\\optimize\\lbfgsb.py\", line 199, in fmin_l_bfgs_b\n",
      "    **opts)\n",
      "  File \"C:\\Users\\Paul\\Miniconda3\\envs\\cs460g\\lib\\site-packages\\scipy\\optimize\\lbfgsb.py\", line 335, in _minimize_lbfgsb\n",
      "    f, g = func_and_grad(x)\n",
      "  File \"C:\\Users\\Paul\\Miniconda3\\envs\\cs460g\\lib\\site-packages\\scipy\\optimize\\lbfgsb.py\", line 285, in func_and_grad\n",
      "    f = fun(x, *args)\n",
      "  File \"C:\\Users\\Paul\\Miniconda3\\envs\\cs460g\\lib\\site-packages\\scipy\\optimize\\optimize.py\", line 293, in function_wrapper\n",
      "    return function(*(wrapper_args + args))\n",
      "  File \"C:\\Users\\Paul\\Miniconda3\\envs\\cs460g\\lib\\site-packages\\scipy\\optimize\\optimize.py\", line 63, in __call__\n",
      "    fg = self.fun(x, *args)\n",
      "  File \"C:\\Users\\Paul\\Miniconda3\\envs\\cs460g\\lib\\site-packages\\sklearn\\neural_network\\multilayer_perceptron.py\", line 179, in _loss_grad_lbfgs\n",
      "    X, y, activations, deltas, coef_grads, intercept_grads)\n",
      "  File \"C:\\Users\\Paul\\Miniconda3\\envs\\cs460g\\lib\\site-packages\\sklearn\\neural_network\\multilayer_perceptron.py\", line 224, in _backprop\n",
      "    activations = self._forward_pass(activations)\n",
      "  File \"C:\\Users\\Paul\\Miniconda3\\envs\\cs460g\\lib\\site-packages\\sklearn\\neural_network\\multilayer_perceptron.py\", line 106, in _forward_pass\n",
      "    activations[i + 1] += self.intercepts_[i]\n",
      "KeyboardInterrupt\n",
      "\n",
      "During handling of the above exception, another exception occurred:\n",
      "\n",
      "Traceback (most recent call last):\n",
      "  File \"C:\\Users\\Paul\\Miniconda3\\envs\\cs460g\\lib\\site-packages\\IPython\\core\\interactiveshell.py\", line 1863, in showtraceback\n",
      "    stb = value._render_traceback_()\n",
      "AttributeError: 'KeyboardInterrupt' object has no attribute '_render_traceback_'\n",
      "\n",
      "During handling of the above exception, another exception occurred:\n",
      "\n",
      "Traceback (most recent call last):\n",
      "  File \"C:\\Users\\Paul\\Miniconda3\\envs\\cs460g\\lib\\site-packages\\IPython\\core\\ultratb.py\", line 1095, in get_records\n",
      "    return _fixed_getinnerframes(etb, number_of_lines_of_context, tb_offset)\n",
      "  File \"C:\\Users\\Paul\\Miniconda3\\envs\\cs460g\\lib\\site-packages\\IPython\\core\\ultratb.py\", line 311, in wrapped\n",
      "    return f(*args, **kwargs)\n",
      "  File \"C:\\Users\\Paul\\Miniconda3\\envs\\cs460g\\lib\\site-packages\\IPython\\core\\ultratb.py\", line 345, in _fixed_getinnerframes\n",
      "    records = fix_frame_records_filenames(inspect.getinnerframes(etb, context))\n",
      "  File \"C:\\Users\\Paul\\Miniconda3\\envs\\cs460g\\lib\\inspect.py\", line 1483, in getinnerframes\n",
      "    frameinfo = (tb.tb_frame,) + getframeinfo(tb, context)\n",
      "  File \"C:\\Users\\Paul\\Miniconda3\\envs\\cs460g\\lib\\inspect.py\", line 1445, in getframeinfo\n",
      "    lines, lnum = findsource(frame)\n",
      "  File \"C:\\Users\\Paul\\Miniconda3\\envs\\cs460g\\lib\\site-packages\\IPython\\core\\ultratb.py\", line 177, in findsource\n",
      "    lines = linecache.getlines(file, globals_dict)\n",
      "  File \"C:\\Users\\Paul\\Miniconda3\\envs\\cs460g\\lib\\linecache.py\", line 47, in getlines\n",
      "    return updatecache(filename, module_globals)\n",
      "  File \"C:\\Users\\Paul\\Miniconda3\\envs\\cs460g\\lib\\linecache.py\", line 136, in updatecache\n",
      "    with tokenize.open(fullname) as fp:\n",
      "  File \"C:\\Users\\Paul\\Miniconda3\\envs\\cs460g\\lib\\tokenize.py\", line 452, in open\n",
      "    buffer = _builtin_open(filename, 'rb')\n",
      "KeyboardInterrupt\n"
     ]
    },
    {
     "ename": "KeyboardInterrupt",
     "evalue": "",
     "output_type": "error",
     "traceback": [
      "\u001b[1;31m---------------------------------------------------------------------------\u001b[0m"
     ]
    },
    {
     "name": "stderr",
     "output_type": "stream",
     "text": [
      "ERROR:tornado.general:Uncaught exception in ZMQStream callback\n",
      "Traceback (most recent call last):\n",
      "  File \"C:\\Users\\Paul\\Miniconda3\\envs\\cs460g\\lib\\site-packages\\zmq\\eventloop\\zmqstream.py\", line 432, in _run_callback\n",
      "    callback(*args, **kwargs)\n",
      "  File \"C:\\Users\\Paul\\Miniconda3\\envs\\cs460g\\lib\\site-packages\\tornado\\stack_context.py\", line 300, in null_wrapper\n",
      "    return fn(*args, **kwargs)\n",
      "  File \"C:\\Users\\Paul\\Miniconda3\\envs\\cs460g\\lib\\site-packages\\ipykernel\\kernelbase.py\", line 283, in dispatcher\n",
      "    return self.dispatch_shell(stream, msg)\n",
      "  File \"C:\\Users\\Paul\\Miniconda3\\envs\\cs460g\\lib\\site-packages\\ipykernel\\kernelbase.py\", line 233, in dispatch_shell\n",
      "    handler(stream, idents, msg)\n",
      "  File \"C:\\Users\\Paul\\Miniconda3\\envs\\cs460g\\lib\\site-packages\\ipykernel\\kernelbase.py\", line 408, in execute_request\n",
      "    time.sleep(self._execute_sleep)\n",
      "KeyboardInterrupt\n"
     ]
    }
   ],
   "source": [
    "#build a classifier\n",
    "clf = MLPClassifier()\n",
    "\n",
    "param_dist = {\"max_iter\": sp_randint(150, 220),\n",
    "              \"solver\": ['sgd', 'lbfgs', 'adam']}\n",
    "\n",
    "n_iter_search = 20\n",
    "random_search = RandomizedSearchCV(clf, param_distributions=param_dist,\n",
    "                                   n_iter=n_iter_search, cv=5)\n",
    "\n",
    "random_search.fit(X_train_split, y_train_split)\n",
    "print(\"Best params: \", random_search.best_params_); print()\n",
    "\n",
    "y_true, y_pred = y_test_split, random_search.predict(X_test_split)\n",
    "\n",
    "print(\"Classification report: \"); print()\n",
    "print(classification_report(y_true, y_pred))"
   ]
  },
  {
   "cell_type": "markdown",
   "metadata": {},
   "source": [
    "# Make Multi Layer Perceptron Submission using Best Parameters"
   ]
  },
  {
   "cell_type": "code",
   "execution_count": null,
   "metadata": {},
   "outputs": [],
   "source": [
    "MLPclf = RandomForestClassifier(n_estimators = 319, random_state = True, max_depth = None, bootstrap = False, criterion = \"entropy\", min_samples_split = 5, max_features = 2)\n",
    "MLPclf.fit(X_train, y_train)\n",
    "df = pd.DataFrame(MLPclf.predict(X_test), columns=['Label'])\n",
    "df.index += 1 # upgrade to one-based indexing\n",
    "df.to_csv('PaulBarrett_MLP_submission.csv',index_label='ID',columns=['Label'])"
   ]
  }
 ],
 "metadata": {
  "kernelspec": {
   "display_name": "Python 3",
   "language": "python",
   "name": "python3"
  },
  "language_info": {
   "codemirror_mode": {
    "name": "ipython",
    "version": 3
   },
   "file_extension": ".py",
   "mimetype": "text/x-python",
   "name": "python",
   "nbconvert_exporter": "python",
   "pygments_lexer": "ipython3",
   "version": "3.6.6"
  }
 },
 "nbformat": 4,
 "nbformat_minor": 1
}
